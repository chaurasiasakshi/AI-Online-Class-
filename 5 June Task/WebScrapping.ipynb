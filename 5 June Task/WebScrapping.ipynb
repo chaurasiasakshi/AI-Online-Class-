{
 "cells": [
  {
   "cell_type": "code",
   "execution_count": 2,
   "id": "06f26aec-59fb-49aa-9846-69abd03b0950",
   "metadata": {},
   "outputs": [],
   "source": [
    "import requests\n",
    "from lxml import html\n",
    "import csv\n",
    "from bs4 import BeautifulSoup"
   ]
  },
  {
   "cell_type": "code",
   "execution_count": 3,
   "id": "c17b4da4-3521-4c17-a962-e89626620de1",
   "metadata": {},
   "outputs": [],
   "source": [
    "# URL of the webpage to scrape\n",
    "url = \"https://results.eci.gov.in/PcResultGenJune2024/index.htm\""
   ]
  },
  {
   "cell_type": "code",
   "execution_count": null,
   "id": "a71e2da9-2912-4787-bf8a-d49d63365216",
   "metadata": {},
   "outputs": [],
   "source": []
  }
 ],
 "metadata": {
  "kernelspec": {
   "display_name": "Python 3 (ipykernel)",
   "language": "python",
   "name": "python3"
  },
  "language_info": {
   "codemirror_mode": {
    "name": "ipython",
    "version": 3
   },
   "file_extension": ".py",
   "mimetype": "text/x-python",
   "name": "python",
   "nbconvert_exporter": "python",
   "pygments_lexer": "ipython3",
   "version": "3.10.11"
  }
 },
 "nbformat": 4,
 "nbformat_minor": 5
}
