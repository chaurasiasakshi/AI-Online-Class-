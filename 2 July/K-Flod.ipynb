{
 "cells": [
  {
   "cell_type": "code",
   "execution_count": 1,
   "id": "fa1dc4c5-352f-45d3-b2b2-b28dd51f2243",
   "metadata": {},
   "outputs": [],
   "source": [
    "from sklearn.model_selection import KFold"
   ]
  },
  {
   "cell_type": "code",
   "execution_count": 2,
   "id": "7dc7b916-5ceb-4bd2-93ed-ba6d3ef79189",
   "metadata": {},
   "outputs": [
    {
     "data": {
      "text/plain": [
       "KFold(n_splits=3, random_state=None, shuffle=False)"
      ]
     },
     "execution_count": 2,
     "metadata": {},
     "output_type": "execute_result"
    }
   ],
   "source": [
    "kf = KFold(n_splits = 3)\n",
    "kf"
   ]
  },
  {
   "cell_type": "code",
   "execution_count": 3,
   "id": "b2c53062-e191-4611-80ce-c3e03c9f1e31",
   "metadata": {},
   "outputs": [
    {
     "name": "stdout",
     "output_type": "stream",
     "text": [
      "[3 4 5 6 7] [0 1 2]\n",
      "[0 1 2 6 7] [3 4 5]\n",
      "[0 1 2 3 4 5] [6 7]\n"
     ]
    }
   ],
   "source": [
    "for train_index, test_index in kf.split([1,2,3,4,5,6,7,8]):\n",
    "    print(train_index , test_index)"
   ]
  },
  {
   "cell_type": "code",
   "execution_count": 4,
   "id": "23781241-674d-482a-b963-2afcbc7725eb",
   "metadata": {},
   "outputs": [],
   "source": [
    "from sklearn.linear_model import LogisticRegression\n",
    "from sklearn.svm import SVC\n",
    "from sklearn.ensemble import RandomForestClassifier"
   ]
  },
  {
   "cell_type": "code",
   "execution_count": 5,
   "id": "5f9fe863-8758-4bba-a609-4d036986fc34",
   "metadata": {},
   "outputs": [],
   "source": [
    "import numpy as np\n",
    "import pandas as pd\n",
    "import matplotlib.pyplot as plt"
   ]
  },
  {
   "cell_type": "code",
   "execution_count": 6,
   "id": "08ecdf16-c6f7-4cab-a13b-018c39e390fe",
   "metadata": {},
   "outputs": [],
   "source": [
    "from sklearn.datasets import load_digits"
   ]
  },
  {
   "cell_type": "code",
   "execution_count": 7,
   "id": "cf91b5de-0a66-4bf4-9bab-ea744c7c561e",
   "metadata": {},
   "outputs": [],
   "source": [
    "digits = load_digits()"
   ]
  },
  {
   "cell_type": "code",
   "execution_count": 8,
   "id": "c0788368-ba42-4dda-9e47-3df35b7e4464",
   "metadata": {},
   "outputs": [],
   "source": [
    "from sklearn.model_selection import train_test_split"
   ]
  },
  {
   "cell_type": "code",
   "execution_count": 9,
   "id": "1c0fc294-cb9d-46ba-ba05-502463ebb330",
   "metadata": {},
   "outputs": [],
   "source": [
    "x_train , x_test , y_train , y_test = train_test_split(digits.data , digits.target , test_size=0.3)"
   ]
  },
  {
   "cell_type": "code",
   "execution_count": 10,
   "id": "953b0671-9321-4160-b166-b18e80dabc23",
   "metadata": {},
   "outputs": [
    {
     "name": "stderr",
     "output_type": "stream",
     "text": [
      "C:\\Users\\Asus\\AppData\\Local\\Programs\\Python\\Python311\\Lib\\site-packages\\sklearn\\linear_model\\_logistic.py:469: ConvergenceWarning: lbfgs failed to converge (status=1):\n",
      "STOP: TOTAL NO. of ITERATIONS REACHED LIMIT.\n",
      "\n",
      "Increase the number of iterations (max_iter) or scale the data as shown in:\n",
      "    https://scikit-learn.org/stable/modules/preprocessing.html\n",
      "Please also refer to the documentation for alternative solver options:\n",
      "    https://scikit-learn.org/stable/modules/linear_model.html#logistic-regression\n",
      "  n_iter_i = _check_optimize_result(\n"
     ]
    },
    {
     "data": {
      "text/plain": [
       "0.9555555555555556"
      ]
     },
     "execution_count": 10,
     "metadata": {},
     "output_type": "execute_result"
    }
   ],
   "source": [
    "lr = LogisticRegression()\n",
    "lr.fit(x_train,y_train)\n",
    "lr.score(x_test,y_test)\n"
   ]
  },
  {
   "cell_type": "code",
   "execution_count": 11,
   "id": "e1ab0684-e52f-4e6f-be05-ee0636cb23c2",
   "metadata": {},
   "outputs": [
    {
     "data": {
      "text/plain": [
       "0.9777777777777777"
      ]
     },
     "execution_count": 11,
     "metadata": {},
     "output_type": "execute_result"
    }
   ],
   "source": [
    "svm = SVC()\n",
    "svm.fit(x_train , y_train)\n",
    "svm.score(x_test,y_test)"
   ]
  },
  {
   "cell_type": "code",
   "execution_count": 12,
   "id": "1be2f497-7d88-443f-b1eb-bc7259e073a5",
   "metadata": {},
   "outputs": [
    {
     "data": {
      "text/plain": [
       "0.9703703703703703"
      ]
     },
     "execution_count": 12,
     "metadata": {},
     "output_type": "execute_result"
    }
   ],
   "source": [
    "rf = RandomForestClassifier()\n",
    "rf.fit(x_train,y_train)\n",
    "rf.score(x_test,y_test)"
   ]
  },
  {
   "cell_type": "code",
   "execution_count": 13,
   "id": "4df09899-feeb-4c26-ae22-05ff9f1f948e",
   "metadata": {},
   "outputs": [],
   "source": [
    "def get_score(model , x_train,x_test , y_train , y_test):\n",
    "    model.fit(x_train , y_train)\n",
    "    return model.score(x_test , y_test)"
   ]
  },
  {
   "cell_type": "code",
   "execution_count": null,
   "id": "07119f71-cdc1-480a-9a14-af77543733ca",
   "metadata": {},
   "outputs": [],
   "source": [
    "get_score(LogisticRegression() , x_train , x_test , y_train , y_test)"
   ]
  },
  {
   "cell_type": "code",
   "execution_count": null,
   "id": "376e9de5-1e33-4139-8141-4715b16d608e",
   "metadata": {},
   "outputs": [],
   "source": [
    "get_score(SVC() , x_train , x_test , y_train , y_test)\n"
   ]
  },
  {
   "cell_type": "code",
   "execution_count": null,
   "id": "5c072b15-eb02-441a-b69c-c5dea4ea0834",
   "metadata": {},
   "outputs": [],
   "source": [
    "from sklearn.model_selection import StratifiedKFold"
   ]
  },
  {
   "cell_type": "code",
   "execution_count": null,
   "id": "4dbaf375-aefd-4105-a136-a6789fe5ac0c",
   "metadata": {},
   "outputs": [],
   "source": [
    "folds = StratifiedKFold(n_splits = 3)\n"
   ]
  },
  {
   "cell_type": "code",
   "execution_count": null,
   "id": "807dc8e7-4393-4c3f-9348-6e3f82012cd6",
   "metadata": {},
   "outputs": [],
   "source": []
  },
  {
   "cell_type": "code",
   "execution_count": null,
   "id": "47428170-9f5c-4921-95d4-e75755c1dfac",
   "metadata": {},
   "outputs": [],
   "source": [
    "scores_logistics= []\n",
    "scores_svm =[]\n",
    "scores_rf=[]\n",
    "\n",
    "\n",
    "for train_index, test_index in folds.split(digits.data,digits.target):\n",
    "    x_train, x_test, y_train, y_test = digits.data[train_index], digits.data[test_index], \\\n",
    "                                        digits.target[train_index], digits.target[test_index]\n",
    "    scores_logistics.append(get_score(LogisticRegression (solver='liblinear', multi_class='ovr'), x_train, x_test, y_train, y_test))\n",
    "    scores_svm.append(get_score (SVC(gamma='auto'), x_train, x_test, y_train, y_test))\n",
    "    scores_rf.append(get_score (RandomForestClassifier(n_estimators=40), x_train, x_test, y_train, y_test))"
   ]
  },
  {
   "cell_type": "code",
   "execution_count": null,
   "id": "77ddfb0d-9c6d-4046-baac-111e626ea3ab",
   "metadata": {},
   "outputs": [],
   "source": [
    "scores_logistics"
   ]
  },
  {
   "cell_type": "code",
   "execution_count": null,
   "id": "adaa12fa-b16b-4641-87f0-8668cbc66b16",
   "metadata": {},
   "outputs": [],
   "source": [
    "scores_rf"
   ]
  },
  {
   "cell_type": "code",
   "execution_count": null,
   "id": "d5905d32-994f-4bc1-a6c3-190372353e59",
   "metadata": {},
   "outputs": [],
   "source": [
    "scores_svm"
   ]
  },
  {
   "cell_type": "code",
   "execution_count": null,
   "id": "6902d7a4-484f-4a63-9b34-54627ff32994",
   "metadata": {},
   "outputs": [],
   "source": [
    "from sklearn.model_selection import cross_val_score"
   ]
  },
  {
   "cell_type": "code",
   "execution_count": null,
   "id": "f3163365-f57f-433f-80d6-b99f2937e22a",
   "metadata": {},
   "outputs": [],
   "source": [
    "cross_val_score(LogisticRegression(solver='liblinear',multi_class='ovr'),digits.data,digits.target ,cv=3)\n"
   ]
  },
  {
   "cell_type": "code",
   "execution_count": null,
   "id": "8d53ead3-c9ef-43e1-b2bd-79910260e178",
   "metadata": {},
   "outputs": [],
   "source": [
    "cross_val_score(RandomForestClassifier(n_estimators=40),digits.data,digits.target ,cv=3)\n"
   ]
  },
  {
   "cell_type": "code",
   "execution_count": null,
   "id": "9da89b7d-b964-450b-9f6d-a56ef85232a8",
   "metadata": {},
   "outputs": [],
   "source": [
    "cross_val_score(SVC(gamma='auto'),digits.data,digits.target ,cv=3)\n"
   ]
  },
  {
   "cell_type": "code",
   "execution_count": null,
   "id": "6fdcbee4-ae65-4d36-9d96-00ddfd224f78",
   "metadata": {},
   "outputs": [],
   "source": [
    "scores1=cross_val_score(RandomForestClassifier(n_estimators=40),digits.data,digits.target , cv=3)\n",
    "np.average(scores1)"
   ]
  },
  {
   "cell_type": "code",
   "execution_count": 31,
   "id": "c437ecd1-169c-48f5-8b08-36277f9a1806",
   "metadata": {},
   "outputs": [
    {
     "data": {
      "text/plain": [
       "np.float64(0.9354531346989446)"
      ]
     },
     "execution_count": 31,
     "metadata": {},
     "output_type": "execute_result"
    }
   ],
   "source": [
    "scores2=cross_val_score(RandomForestClassifier(n_estimators=20),digits.data,digits.target , cv=10)\n",
    "np.average(scores2)\n"
   ]
  },
  {
   "cell_type": "code",
   "execution_count": null,
   "id": "5c9b314c-7c7e-4d41-a690-e68745d31399",
   "metadata": {},
   "outputs": [],
   "source": []
  }
 ],
 "metadata": {
  "kernelspec": {
   "display_name": "Python 3 (ipykernel)",
   "language": "python",
   "name": "python3"
  },
  "language_info": {
   "codemirror_mode": {
    "name": "ipython",
    "version": 3
   },
   "file_extension": ".py",
   "mimetype": "text/x-python",
   "name": "python",
   "nbconvert_exporter": "python",
   "pygments_lexer": "ipython3",
   "version": "3.11.9"
  }
 },
 "nbformat": 4,
 "nbformat_minor": 5
}
