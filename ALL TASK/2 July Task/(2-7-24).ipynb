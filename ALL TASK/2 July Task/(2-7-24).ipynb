{
 "cells": [
  {
   "cell_type": "markdown",
   "id": "fd3b9d86-ffed-4f8a-8702-de1eb7384623",
   "metadata": {},
   "source": [
    "## Use iris flower dataset from sklearn library and use cross_val_score against following\n",
    "models to measure the performance of each. In the end figure out the model with best performance,\n",
    "# 1. Logistic Regression\n",
    "# 2. SVM\n",
    "# 3. Decision Tree\n",
    "# 4. Random Forest\n"
   ]
  },
  {
   "cell_type": "code",
   "execution_count": 1,
   "id": "11ebc739-3029-4946-8e2b-86bff11f814d",
   "metadata": {},
   "outputs": [],
   "source": [
    "import pandas as pd\n",
    "import numpy as np\n",
    "import matplotlib.pyplot as plt\n",
    "import seaborn as sns"
   ]
  },
  {
   "cell_type": "code",
   "execution_count": 2,
   "id": "7cf1dea0-5c50-428a-8340-b5c4a788aaa8",
   "metadata": {},
   "outputs": [],
   "source": [
    "from sklearn import datasets\n",
    "iris = datasets.load_iris()"
   ]
  },
  {
   "cell_type": "code",
   "execution_count": 3,
   "id": "2b014e92-2817-4f26-919b-39fd491e6061",
   "metadata": {},
   "outputs": [],
   "source": [
    "df = pd.DataFrame(iris.data , columns=iris.feature_names)\n",
    "df['Flower'] = iris.target\n",
    "df['Flower']=df['Flower'].apply(lambda x : iris.target_names[x])"
   ]
  },
  {
   "cell_type": "code",
   "execution_count": 4,
   "id": "27d1e3e3-7341-43b0-b033-ca7122aa24b6",
   "metadata": {},
   "outputs": [],
   "source": [
    "x = df.iloc[:,0:4]\n",
    "y = df.iloc[:,-1]"
   ]
  },
  {
   "cell_type": "code",
   "execution_count": 5,
   "id": "00e7afaf-4e1b-4a91-a10d-4dd1552e6b44",
   "metadata": {
    "scrolled": true
   },
   "outputs": [
    {
     "data": {
      "text/html": [
       "<div>\n",
       "<style scoped>\n",
       "    .dataframe tbody tr th:only-of-type {\n",
       "        vertical-align: middle;\n",
       "    }\n",
       "\n",
       "    .dataframe tbody tr th {\n",
       "        vertical-align: top;\n",
       "    }\n",
       "\n",
       "    .dataframe thead th {\n",
       "        text-align: right;\n",
       "    }\n",
       "</style>\n",
       "<table border=\"1\" class=\"dataframe\">\n",
       "  <thead>\n",
       "    <tr style=\"text-align: right;\">\n",
       "      <th></th>\n",
       "      <th>sepal length (cm)</th>\n",
       "      <th>sepal width (cm)</th>\n",
       "      <th>petal length (cm)</th>\n",
       "      <th>petal width (cm)</th>\n",
       "      <th>Flower</th>\n",
       "    </tr>\n",
       "  </thead>\n",
       "  <tbody>\n",
       "    <tr>\n",
       "      <th>0</th>\n",
       "      <td>5.1</td>\n",
       "      <td>3.5</td>\n",
       "      <td>1.4</td>\n",
       "      <td>0.2</td>\n",
       "      <td>setosa</td>\n",
       "    </tr>\n",
       "    <tr>\n",
       "      <th>1</th>\n",
       "      <td>4.9</td>\n",
       "      <td>3.0</td>\n",
       "      <td>1.4</td>\n",
       "      <td>0.2</td>\n",
       "      <td>setosa</td>\n",
       "    </tr>\n",
       "    <tr>\n",
       "      <th>2</th>\n",
       "      <td>4.7</td>\n",
       "      <td>3.2</td>\n",
       "      <td>1.3</td>\n",
       "      <td>0.2</td>\n",
       "      <td>setosa</td>\n",
       "    </tr>\n",
       "    <tr>\n",
       "      <th>3</th>\n",
       "      <td>4.6</td>\n",
       "      <td>3.1</td>\n",
       "      <td>1.5</td>\n",
       "      <td>0.2</td>\n",
       "      <td>setosa</td>\n",
       "    </tr>\n",
       "    <tr>\n",
       "      <th>4</th>\n",
       "      <td>5.0</td>\n",
       "      <td>3.6</td>\n",
       "      <td>1.4</td>\n",
       "      <td>0.2</td>\n",
       "      <td>setosa</td>\n",
       "    </tr>\n",
       "  </tbody>\n",
       "</table>\n",
       "</div>"
      ],
      "text/plain": [
       "   sepal length (cm)  sepal width (cm)  petal length (cm)  petal width (cm)  \\\n",
       "0                5.1               3.5                1.4               0.2   \n",
       "1                4.9               3.0                1.4               0.2   \n",
       "2                4.7               3.2                1.3               0.2   \n",
       "3                4.6               3.1                1.5               0.2   \n",
       "4                5.0               3.6                1.4               0.2   \n",
       "\n",
       "   Flower  \n",
       "0  setosa  \n",
       "1  setosa  \n",
       "2  setosa  \n",
       "3  setosa  \n",
       "4  setosa  "
      ]
     },
     "execution_count": 5,
     "metadata": {},
     "output_type": "execute_result"
    }
   ],
   "source": [
    "df.head()"
   ]
  },
  {
   "cell_type": "code",
   "execution_count": 6,
   "id": "914a59ee-b193-4a1f-8537-21b25690bdab",
   "metadata": {},
   "outputs": [],
   "source": [
    "from sklearn.model_selection import train_test_split\n",
    "x_train ,  x_test ,y_train ,y_test = train_test_split(x,y,test_size=0.3)"
   ]
  },
  {
   "cell_type": "code",
   "execution_count": 7,
   "id": "47889473-ec83-48ff-bcf3-269dd8469de3",
   "metadata": {},
   "outputs": [],
   "source": [
    "from sklearn import svm"
   ]
  },
  {
   "cell_type": "code",
   "execution_count": 23,
   "id": "a5d049ee-cd8f-42b6-9018-64310c69260a",
   "metadata": {},
   "outputs": [
    {
     "data": {
      "text/plain": [
       "0.8888888888888888"
      ]
     },
     "execution_count": 23,
     "metadata": {},
     "output_type": "execute_result"
    }
   ],
   "source": [
    "model = svm.SVC(kernel='rbf',C=30,gamma='auto')\n",
    "model.fit(x_train,y_train)\n",
    "model.score(x_test,y_test)"
   ]
  },
  {
   "cell_type": "code",
   "execution_count": 24,
   "id": "3d2d88a4-4d77-437b-abe4-d2a1edb67763",
   "metadata": {},
   "outputs": [],
   "source": [
    "from sklearn.model_selection import cross_val_score"
   ]
  },
  {
   "cell_type": "code",
   "execution_count": 25,
   "id": "cea83459-77e2-4c55-b2a9-129ae5e045ea",
   "metadata": {},
   "outputs": [
    {
     "data": {
      "text/plain": [
       "<function sklearn.model_selection._validation.cross_val_score(estimator, X, y=None, *, groups=None, scoring=None, cv=None, n_jobs=None, verbose=0, fit_params=None, params=None, pre_dispatch='2*n_jobs', error_score=nan)>"
      ]
     },
     "execution_count": 25,
     "metadata": {},
     "output_type": "execute_result"
    }
   ],
   "source": [
    "cvs = cross_val_score\n",
    "cvs"
   ]
  },
  {
   "cell_type": "code",
   "execution_count": 26,
   "id": "1f4335fa-4737-479a-81cb-c26674862b44",
   "metadata": {},
   "outputs": [
    {
     "data": {
      "text/plain": [
       "array([1.        , 1.        , 0.95238095, 0.95238095, 0.85714286])"
      ]
     },
     "execution_count": 26,
     "metadata": {},
     "output_type": "execute_result"
    }
   ],
   "source": [
    "cvs(svm.SVC(kernel='linear' , C=10, gamma='auto'),x_train, y_train,cv=5)"
   ]
  },
  {
   "cell_type": "code",
   "execution_count": 27,
   "id": "e13378bb-bf30-4d2c-aa50-831c2c317218",
   "metadata": {},
   "outputs": [
    {
     "data": {
      "text/plain": [
       "array([1.        , 1.        , 0.95238095, 0.95238095, 0.85714286])"
      ]
     },
     "execution_count": 27,
     "metadata": {},
     "output_type": "execute_result"
    }
   ],
   "source": [
    "cvs(svm.SVC(kernel='rbf' , C=10, gamma='auto'),x_train, y_train,cv=5)"
   ]
  },
  {
   "cell_type": "code",
   "execution_count": 28,
   "id": "a1cbddef-9649-4162-98be-daf77484ee8c",
   "metadata": {},
   "outputs": [
    {
     "data": {
      "text/plain": [
       "array([1.        , 1.        , 0.95238095, 0.95238095, 0.85714286])"
      ]
     },
     "execution_count": 28,
     "metadata": {},
     "output_type": "execute_result"
    }
   ],
   "source": [
    "cvs(svm.SVC(kernel='rbf' , C=20, gamma='auto'),x_train, y_train,cv=5)"
   ]
  },
  {
   "cell_type": "code",
   "execution_count": 32,
   "id": "63cb90bb-1c6e-497e-97b5-057cd57850d7",
   "metadata": {},
   "outputs": [
    {
     "data": {
      "text/plain": [
       "{'rbf_1': np.float64(0.9428571428571428),\n",
       " 'rbf_10': np.float64(0.9523809523809523),\n",
       " 'rbf_20': np.float64(0.9523809523809523),\n",
       " 'linear_1': np.float64(0.961904761904762),\n",
       " 'linear_10': np.float64(0.9523809523809523),\n",
       " 'linear_20': np.float64(0.9428571428571427)}"
      ]
     },
     "execution_count": 32,
     "metadata": {},
     "output_type": "execute_result"
    }
   ],
   "source": [
    "kernels = ['rbf' , 'linear']\n",
    "C = [1,10,20]\n",
    "avg_scores = {}\n",
    "for kval in kernels:\n",
    "    for cval in C:\n",
    "        cv_scores = cvs(svm.SVC(kernel=kval, C=cval , gamma='auto'),x_train , y_train,cv=5)\n",
    "        avg_scores[kval + '_' + str(cval)] = np.average(cv_scores)\n",
    "        \n",
    "         \n",
    "avg_scores      "
   ]
  },
  {
   "cell_type": "code",
   "execution_count": 33,
   "id": "331ef4bb-e5e8-4b78-bf40-d27fb895c032",
   "metadata": {},
   "outputs": [],
   "source": [
    "from sklearn.model_selection import GridSearchCV"
   ]
  },
  {
   "cell_type": "code",
   "execution_count": 36,
   "id": "4abb62fa-35c8-40fa-aa7b-f00ff4d9aeb4",
   "metadata": {},
   "outputs": [
    {
     "data": {
      "text/plain": [
       "{'mean_fit_time': array([0.00270195, 0.00893207, 0.00204277, 0.00376163, 0.00323091,\n",
       "        0.00358143]),\n",
       " 'std_fit_time': array([0.0023374 , 0.00805177, 0.00269708, 0.00463722, 0.0019299 ,\n",
       "        0.003756  ]),\n",
       " 'mean_score_time': array([0.01300745, 0.00470142, 0.00222802, 0.00130343, 0.00193815,\n",
       "        0.00238528]),\n",
       " 'std_score_time': array([0.02126774, 0.00308032, 0.00314559, 0.00260687, 0.00262005,\n",
       "        0.0027784 ]),\n",
       " 'param_C': masked_array(data=[1, 1, 10, 10, 20, 20],\n",
       "              mask=[False, False, False, False, False, False],\n",
       "        fill_value=999999),\n",
       " 'param_kernel': masked_array(data=['rbf', 'linear', 'rbf', 'linear', 'rbf', 'linear'],\n",
       "              mask=[False, False, False, False, False, False],\n",
       "        fill_value=np.str_('?'),\n",
       "             dtype=object),\n",
       " 'params': [{'C': 1, 'kernel': 'rbf'},\n",
       "  {'C': 1, 'kernel': 'linear'},\n",
       "  {'C': 10, 'kernel': 'rbf'},\n",
       "  {'C': 10, 'kernel': 'linear'},\n",
       "  {'C': 20, 'kernel': 'rbf'},\n",
       "  {'C': 20, 'kernel': 'linear'}],\n",
       " 'split0_test_score': array([1., 1., 1., 1., 1., 1.]),\n",
       " 'split1_test_score': array([0.95238095, 0.95238095, 1.        , 1.        , 1.        ,\n",
       "        0.95238095]),\n",
       " 'split2_test_score': array([0.9047619 , 1.        , 0.95238095, 0.95238095, 0.95238095,\n",
       "        0.95238095]),\n",
       " 'split3_test_score': array([0.95238095, 0.95238095, 0.95238095, 0.95238095, 0.95238095,\n",
       "        0.95238095]),\n",
       " 'split4_test_score': array([0.9047619 , 0.9047619 , 0.85714286, 0.85714286, 0.85714286,\n",
       "        0.85714286]),\n",
       " 'mean_test_score': array([0.94285714, 0.96190476, 0.95238095, 0.95238095, 0.95238095,\n",
       "        0.94285714]),\n",
       " 'std_test_score': array([0.03563483, 0.03563483, 0.05216405, 0.05216405, 0.05216405,\n",
       "        0.04665695]),\n",
       " 'rank_test_score': array([5, 1, 2, 2, 2, 6], dtype=int32)}"
      ]
     },
     "execution_count": 36,
     "metadata": {},
     "output_type": "execute_result"
    }
   ],
   "source": [
    "clf = GridSearchCV(svm.SVC(gamma='auto'),{\n",
    "    'C':[1,10,20],\n",
    "    'kernel':['rbf','linear']\n",
    "},cv=5,return_train_score=False)\n",
    "\n",
    "clf.fit(x_train , y_train)\n",
    "clf.cv_results_"
   ]
  },
  {
   "cell_type": "code",
   "execution_count": 37,
   "id": "caa1d1df-933e-4668-823b-7869000c2037",
   "metadata": {},
   "outputs": [],
   "source": [
    "df = pd.DataFrame(clf.cv_results_)"
   ]
  },
  {
   "cell_type": "code",
   "execution_count": 38,
   "id": "ece24bea-6559-4a4a-8e21-8fa9c36a7265",
   "metadata": {},
   "outputs": [
    {
     "data": {
      "text/html": [
       "<div>\n",
       "<style scoped>\n",
       "    .dataframe tbody tr th:only-of-type {\n",
       "        vertical-align: middle;\n",
       "    }\n",
       "\n",
       "    .dataframe tbody tr th {\n",
       "        vertical-align: top;\n",
       "    }\n",
       "\n",
       "    .dataframe thead th {\n",
       "        text-align: right;\n",
       "    }\n",
       "</style>\n",
       "<table border=\"1\" class=\"dataframe\">\n",
       "  <thead>\n",
       "    <tr style=\"text-align: right;\">\n",
       "      <th></th>\n",
       "      <th>mean_fit_time</th>\n",
       "      <th>std_fit_time</th>\n",
       "      <th>mean_score_time</th>\n",
       "      <th>std_score_time</th>\n",
       "      <th>param_C</th>\n",
       "      <th>param_kernel</th>\n",
       "      <th>params</th>\n",
       "      <th>split0_test_score</th>\n",
       "      <th>split1_test_score</th>\n",
       "      <th>split2_test_score</th>\n",
       "      <th>split3_test_score</th>\n",
       "      <th>split4_test_score</th>\n",
       "      <th>mean_test_score</th>\n",
       "      <th>std_test_score</th>\n",
       "      <th>rank_test_score</th>\n",
       "    </tr>\n",
       "  </thead>\n",
       "  <tbody>\n",
       "    <tr>\n",
       "      <th>0</th>\n",
       "      <td>0.002702</td>\n",
       "      <td>0.002337</td>\n",
       "      <td>0.013007</td>\n",
       "      <td>0.021268</td>\n",
       "      <td>1</td>\n",
       "      <td>rbf</td>\n",
       "      <td>{'C': 1, 'kernel': 'rbf'}</td>\n",
       "      <td>1.0</td>\n",
       "      <td>0.952381</td>\n",
       "      <td>0.904762</td>\n",
       "      <td>0.952381</td>\n",
       "      <td>0.904762</td>\n",
       "      <td>0.942857</td>\n",
       "      <td>0.035635</td>\n",
       "      <td>5</td>\n",
       "    </tr>\n",
       "    <tr>\n",
       "      <th>1</th>\n",
       "      <td>0.008932</td>\n",
       "      <td>0.008052</td>\n",
       "      <td>0.004701</td>\n",
       "      <td>0.003080</td>\n",
       "      <td>1</td>\n",
       "      <td>linear</td>\n",
       "      <td>{'C': 1, 'kernel': 'linear'}</td>\n",
       "      <td>1.0</td>\n",
       "      <td>0.952381</td>\n",
       "      <td>1.000000</td>\n",
       "      <td>0.952381</td>\n",
       "      <td>0.904762</td>\n",
       "      <td>0.961905</td>\n",
       "      <td>0.035635</td>\n",
       "      <td>1</td>\n",
       "    </tr>\n",
       "    <tr>\n",
       "      <th>2</th>\n",
       "      <td>0.002043</td>\n",
       "      <td>0.002697</td>\n",
       "      <td>0.002228</td>\n",
       "      <td>0.003146</td>\n",
       "      <td>10</td>\n",
       "      <td>rbf</td>\n",
       "      <td>{'C': 10, 'kernel': 'rbf'}</td>\n",
       "      <td>1.0</td>\n",
       "      <td>1.000000</td>\n",
       "      <td>0.952381</td>\n",
       "      <td>0.952381</td>\n",
       "      <td>0.857143</td>\n",
       "      <td>0.952381</td>\n",
       "      <td>0.052164</td>\n",
       "      <td>2</td>\n",
       "    </tr>\n",
       "    <tr>\n",
       "      <th>3</th>\n",
       "      <td>0.003762</td>\n",
       "      <td>0.004637</td>\n",
       "      <td>0.001303</td>\n",
       "      <td>0.002607</td>\n",
       "      <td>10</td>\n",
       "      <td>linear</td>\n",
       "      <td>{'C': 10, 'kernel': 'linear'}</td>\n",
       "      <td>1.0</td>\n",
       "      <td>1.000000</td>\n",
       "      <td>0.952381</td>\n",
       "      <td>0.952381</td>\n",
       "      <td>0.857143</td>\n",
       "      <td>0.952381</td>\n",
       "      <td>0.052164</td>\n",
       "      <td>2</td>\n",
       "    </tr>\n",
       "    <tr>\n",
       "      <th>4</th>\n",
       "      <td>0.003231</td>\n",
       "      <td>0.001930</td>\n",
       "      <td>0.001938</td>\n",
       "      <td>0.002620</td>\n",
       "      <td>20</td>\n",
       "      <td>rbf</td>\n",
       "      <td>{'C': 20, 'kernel': 'rbf'}</td>\n",
       "      <td>1.0</td>\n",
       "      <td>1.000000</td>\n",
       "      <td>0.952381</td>\n",
       "      <td>0.952381</td>\n",
       "      <td>0.857143</td>\n",
       "      <td>0.952381</td>\n",
       "      <td>0.052164</td>\n",
       "      <td>2</td>\n",
       "    </tr>\n",
       "    <tr>\n",
       "      <th>5</th>\n",
       "      <td>0.003581</td>\n",
       "      <td>0.003756</td>\n",
       "      <td>0.002385</td>\n",
       "      <td>0.002778</td>\n",
       "      <td>20</td>\n",
       "      <td>linear</td>\n",
       "      <td>{'C': 20, 'kernel': 'linear'}</td>\n",
       "      <td>1.0</td>\n",
       "      <td>0.952381</td>\n",
       "      <td>0.952381</td>\n",
       "      <td>0.952381</td>\n",
       "      <td>0.857143</td>\n",
       "      <td>0.942857</td>\n",
       "      <td>0.046657</td>\n",
       "      <td>6</td>\n",
       "    </tr>\n",
       "  </tbody>\n",
       "</table>\n",
       "</div>"
      ],
      "text/plain": [
       "   mean_fit_time  std_fit_time  mean_score_time  std_score_time  param_C  \\\n",
       "0       0.002702      0.002337         0.013007        0.021268        1   \n",
       "1       0.008932      0.008052         0.004701        0.003080        1   \n",
       "2       0.002043      0.002697         0.002228        0.003146       10   \n",
       "3       0.003762      0.004637         0.001303        0.002607       10   \n",
       "4       0.003231      0.001930         0.001938        0.002620       20   \n",
       "5       0.003581      0.003756         0.002385        0.002778       20   \n",
       "\n",
       "  param_kernel                         params  split0_test_score  \\\n",
       "0          rbf      {'C': 1, 'kernel': 'rbf'}                1.0   \n",
       "1       linear   {'C': 1, 'kernel': 'linear'}                1.0   \n",
       "2          rbf     {'C': 10, 'kernel': 'rbf'}                1.0   \n",
       "3       linear  {'C': 10, 'kernel': 'linear'}                1.0   \n",
       "4          rbf     {'C': 20, 'kernel': 'rbf'}                1.0   \n",
       "5       linear  {'C': 20, 'kernel': 'linear'}                1.0   \n",
       "\n",
       "   split1_test_score  split2_test_score  split3_test_score  split4_test_score  \\\n",
       "0           0.952381           0.904762           0.952381           0.904762   \n",
       "1           0.952381           1.000000           0.952381           0.904762   \n",
       "2           1.000000           0.952381           0.952381           0.857143   \n",
       "3           1.000000           0.952381           0.952381           0.857143   \n",
       "4           1.000000           0.952381           0.952381           0.857143   \n",
       "5           0.952381           0.952381           0.952381           0.857143   \n",
       "\n",
       "   mean_test_score  std_test_score  rank_test_score  \n",
       "0         0.942857        0.035635                5  \n",
       "1         0.961905        0.035635                1  \n",
       "2         0.952381        0.052164                2  \n",
       "3         0.952381        0.052164                2  \n",
       "4         0.952381        0.052164                2  \n",
       "5         0.942857        0.046657                6  "
      ]
     },
     "execution_count": 38,
     "metadata": {},
     "output_type": "execute_result"
    }
   ],
   "source": [
    "df"
   ]
  },
  {
   "cell_type": "code",
   "execution_count": null,
   "id": "c7f411cb-4064-4d2f-b62b-7f92fa7f9987",
   "metadata": {},
   "outputs": [],
   "source": []
  }
 ],
 "metadata": {
  "kernelspec": {
   "display_name": "Python 3 (ipykernel)",
   "language": "python",
   "name": "python3"
  },
  "language_info": {
   "codemirror_mode": {
    "name": "ipython",
    "version": 3
   },
   "file_extension": ".py",
   "mimetype": "text/x-python",
   "name": "python",
   "nbconvert_exporter": "python",
   "pygments_lexer": "ipython3",
   "version": "3.11.9"
  }
 },
 "nbformat": 4,
 "nbformat_minor": 5
}
